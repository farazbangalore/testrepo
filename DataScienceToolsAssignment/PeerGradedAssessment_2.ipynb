{
 "cells": [
  {
   "cell_type": "markdown",
   "id": "48f4acb2",
   "metadata": {},
   "source": [
    "# Peer-graded Assignment"
   ]
  },
  {
   "cell_type": "markdown",
   "id": "775acfc3",
   "metadata": {},
   "source": [
    "### This notebook has Data Science tools assigment answers"
   ]
  },
  {
   "cell_type": "markdown",
   "id": "deeb1e34",
   "metadata": {},
   "source": [
    "List of data science langauges: <br>\n",
    "1. Python\n",
    "2. R\n",
    "3. SQL\n",
    "4. Scala"
   ]
  },
  {
   "cell_type": "markdown",
   "id": "4ab2dc0b",
   "metadata": {},
   "source": [
    "List of data science libraries:\n",
    "1. TensorFlow\n",
    "2. NumPy\n",
    "3. SciPy\n",
    "4. Pandas\n",
    "5. Matplotlib\n",
    "6. PyTorch"
   ]
  },
  {
   "cell_type": "markdown",
   "id": "435b7114",
   "metadata": {},
   "source": [
    "| Data Scinece Tools |\n",
    "| --- |\n",
    "| Juputer |\n",
    "| Scikit-learn |\n",
    "| TensorFlow |\n",
    "| Apache Spark |\n",
    "| IBM SPSS |\n",
    "| Keras |"
   ]
  },
  {
   "cell_type": "markdown",
   "id": "47fe40a4",
   "metadata": {},
   "source": [
    "An arithmetic expression is an expression built up using numbers, arithmetic operators (such as +, , -, / and ) and parentheses, \"(\" and \")\".   \n",
    "Example:\n",
    "<br>\n",
    "- 5 --  a number is an arithmetic expression\n",
    "- (3 + 4) -- the  sum of numbers is an arithmetic expression\n",
    "- (7 - 3) --  the difference  of two  numbers is an arithmetic expression\n",
    "- (2 5),    25 -- a product of two numbers is an arithmetic expression.  We indicate the product with either a \"times sign\", \"\" or a raised dot, \"\".   The raising of the dot is important as it makes it easy to distinguish a product from a decimal.  For example, it allows us to distinguish 314 from 3.14.\n",
    "- (6 (3 + 4)),   6(3 + 4)  -- by using parentheses we can indicate the order in which the operations are to be done.  In this example the parentheses indicate that "
   ]
  },
  {
   "cell_type": "code",
   "execution_count": 1,
   "id": "0718ec35",
   "metadata": {},
   "outputs": [
    {
     "name": "stdout",
     "output_type": "stream",
     "text": [
      "30\n",
      "200\n"
     ]
    }
   ],
   "source": [
    "a,b=10,20\n",
    "print(a+b)\n",
    "print(a*b)"
   ]
  },
  {
   "cell_type": "code",
   "execution_count": 2,
   "id": "954f910b",
   "metadata": {},
   "outputs": [
    {
     "name": "stdout",
     "output_type": "stream",
     "text": [
      "2:10\n"
     ]
    }
   ],
   "source": [
    "input = 130\n",
    "hours = input // 60\n",
    "minutes = input % 60\n",
    "time = \"{}:{}\".format(hours, minutes)\n",
    "\n",
    "print(time)"
   ]
  },
  {
   "cell_type": "markdown",
   "id": "a8040333",
   "metadata": {},
   "source": [
    "Objective of this course is,\n",
    "- Cite popular open source, commercial, and cloud-based tools used by data scientists.\n",
    "- Explain the function of an API and list some common API-related terms.\n",
    "- Discuss the characteristics of a dataset and the ways data can be structured.\n",
    "- Identify  some of the libraries used in data science and the types of functionalities a library can provide.\n",
    "- Compare and contrast between machine learning, deep learning and their use cases.\n",
    "- Discuss the different classes of machine learning models.\n",
    "- Summarize the advantages of using a pre-trained model as opposed to training a model from scratch.\n",
    "- Identify the languages, tools, and data used by data scientists.\n",
    "- Access and explore data sets in the Data Asset Exchange (DAX).\n",
    "- Examine deep learning models on the Model Asset Exchange (MAX) and interact with an image-detection deep learning model."
   ]
  },
  {
   "cell_type": "markdown",
   "id": "fc2d4002",
   "metadata": {},
   "source": [
    "Author: Faraz Hussain"
   ]
  }
 ],
 "metadata": {
  "authors": [
   {
    "name": "Faraz Hussain"
   }
  ],
  "kernelspec": {
   "display_name": "Python 3 (ipykernel)",
   "language": "python",
   "name": "python3"
  },
  "language_info": {
   "codemirror_mode": {
    "name": "ipython",
    "version": 3
   },
   "file_extension": ".py",
   "mimetype": "text/x-python",
   "name": "python",
   "nbconvert_exporter": "python",
   "pygments_lexer": "ipython3",
   "version": "3.9.13"
  }
 },
 "nbformat": 4,
 "nbformat_minor": 5
}
