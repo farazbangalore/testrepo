{
 "cells": [
  {
   "cell_type": "markdown",
   "id": "e38baf16",
   "metadata": {},
   "source": [
    "# My Jupyter Notebook on IBM Watson Studio"
   ]
  },
  {
   "cell_type": "markdown",
   "id": "bf28fff2",
   "metadata": {},
   "source": [
    "**Faraz Hussain** <br>\n",
    "Software Engineer 2"
   ]
  },
  {
   "cell_type": "markdown",
   "id": "4061c97b",
   "metadata": {},
   "source": [
    "*I am Interested in data science because i like playing with data and vislualising it to bring out hidden facts from the data. It also make me happy to learn more about AI and ML models that is revolutionising the today's technology.*"
   ]
  },
  {
   "cell_type": "markdown",
   "id": "2d54675e",
   "metadata": {},
   "source": [
    "### This python code prints elements from 0 to 9"
   ]
  },
  {
   "cell_type": "code",
   "execution_count": 6,
   "id": "ce5dfa01",
   "metadata": {},
   "outputs": [
    {
     "name": "stdout",
     "output_type": "stream",
     "text": [
      "0\n",
      "1\n",
      "2\n",
      "3\n",
      "4\n",
      "5\n",
      "6\n",
      "7\n",
      "8\n",
      "9\n"
     ]
    }
   ],
   "source": [
    "for a in range(10):\n",
    "    print(a)"
   ]
  },
  {
   "cell_type": "markdown",
   "id": "cef60c56",
   "metadata": {},
   "source": [
    "| Stretch/Untouched | ProbDistribution | Accuracy |\n",
    "| --- | --- | --- |\n",
    "| Stretched | Gaussian | .843 |\n",
    "<br>\n",
    "\n",
    "1. List 1\n",
    "2. List 2\n",
    "\n",
    "- bullet 1\n",
    "- bullet 2\n",
    "\n",
    "~This is a strike throught text~"
   ]
  }
 ],
 "metadata": {
  "kernelspec": {
   "display_name": "Python 3 (ipykernel)",
   "language": "python",
   "name": "python3"
  },
  "language_info": {
   "codemirror_mode": {
    "name": "ipython",
    "version": 3
   },
   "file_extension": ".py",
   "mimetype": "text/x-python",
   "name": "python",
   "nbconvert_exporter": "python",
   "pygments_lexer": "ipython3",
   "version": "3.9.13"
  }
 },
 "nbformat": 4,
 "nbformat_minor": 5
}
